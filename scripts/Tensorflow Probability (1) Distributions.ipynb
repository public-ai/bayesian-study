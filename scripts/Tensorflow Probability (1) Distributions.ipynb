{
 "cells": [
  {
   "cell_type": "code",
   "execution_count": 1,
   "metadata": {},
   "outputs": [],
   "source": [
    "%matplotlib inline\n",
    "\n",
    "import numpy as np\n",
    "import tensorflow as tf\n",
    "tf.enable_eager_execution() # Session 그만좀 쓰자...\n",
    "import matplotlib.pyplot as plt\n",
    "\n",
    "from mpl_toolkits.mplot3d import Axes3D"
   ]
  },
  {
   "cell_type": "markdown",
   "metadata": {},
   "source": [
    "# \\[ Tensorflow Probability \\]\n",
    "---\n",
    "\n",
    "텐서플로우에서는 확률 이론을 다루기 위한 라이브러리를 별도로 구성하여 지원합니다. `tensorflow_probability`라고 불리는 이 라이브러리는 텐서플로우와 연동되면서, Bayesian Network에서 구현하기 어려웠던 여러 부분들을 쉽게 모듈화하였습니다.\n",
    "\n",
    "\n",
    "````\n",
    "The TensorFlow Distributions library implements a vision of probability theory adapted to the modern deeplearning paradigm of end-to-end differentiable computation\n",
    "- Tensorflow Distributions\n",
    "````\n",
    "\n",
    "reference : https://arxiv.org/pdf/1711.10604.pdf\n",
    "\n",
    "\n",
    "이번에는 TFP 중 분포를 다루는 `distributions`만을 집중적으로 다루어보도록 하겠습니다."
   ]
  },
  {
   "cell_type": "code",
   "execution_count": 2,
   "metadata": {},
   "outputs": [],
   "source": [
    "try:\n",
    "    import tensorflow_probability as tfp\n",
    "    import tensorflow_probability.python.distributions as tfd\n",
    "except:\n",
    "    !pip install tensorflow_probability\n",
    "    import tensorflow_probability as tfp\n",
    "    import tensorflow_probability.python.distributions as tfd"
   ]
  },
  {
   "cell_type": "markdown",
   "metadata": {},
   "source": [
    "## 1. 분포 정의하기\n",
    "---\n",
    "\n",
    "아래와 같이 분포를 정의할 수 있습니다. 각 분포에 맞는 Parameter을 지정해주면, 우리는 분포 객체를 구성할 수 있습니다."
   ]
  },
  {
   "cell_type": "code",
   "execution_count": 3,
   "metadata": {},
   "outputs": [],
   "source": [
    "normal = tfd.Normal(loc=0., scale=.5) # scale == standard deviance"
   ]
  },
  {
   "cell_type": "markdown",
   "metadata": {},
   "source": [
    "### 샘플링하기"
   ]
  },
  {
   "cell_type": "code",
   "execution_count": 4,
   "metadata": {},
   "outputs": [
    {
     "data": {
      "text/plain": [
       "<tf.Tensor: id=22, shape=(), dtype=float32, numpy=0.15104908>"
      ]
     },
     "execution_count": 4,
     "metadata": {},
     "output_type": "execute_result"
    }
   ],
   "source": [
    "normal.sample()"
   ]
  },
  {
   "cell_type": "code",
   "execution_count": 5,
   "metadata": {},
   "outputs": [
    {
     "data": {
      "text/plain": [
       "<tf.Tensor: id=47, shape=(10,), dtype=float32, numpy=\n",
       "array([-0.25630572,  0.8551888 ,  0.05005733,  0.3338864 ,  0.695187  ,\n",
       "        0.4510943 ,  0.3159778 ,  0.44178095, -0.61520827,  1.0259129 ],\n",
       "      dtype=float32)>"
      ]
     },
     "execution_count": 5,
     "metadata": {},
     "output_type": "execute_result"
    }
   ],
   "source": [
    "normal.sample(10) # 10개를 Sampling하고 싶으면 아래와 같이 할수 있습니다."
   ]
  },
  {
   "cell_type": "code",
   "execution_count": 6,
   "metadata": {},
   "outputs": [
    {
     "data": {
      "text/plain": [
       "<tf.Tensor: id=70, shape=(2, 5), dtype=float32, numpy=\n",
       "array([[ 0.2674568 ,  0.04295176, -0.36313987,  0.02802053, -0.7064129 ],\n",
       "       [ 0.53371394, -1.0188072 , -0.21590303, -1.2746348 , -0.52497447]],\n",
       "      dtype=float32)>"
      ]
     },
     "execution_count": 6,
     "metadata": {},
     "output_type": "execute_result"
    }
   ],
   "source": [
    "normal.sample([2,5]) # Shape로 넣으면 Shape에 맞게 나옵니다."
   ]
  },
  {
   "cell_type": "markdown",
   "metadata": {},
   "source": [
    "### 확률값 가져오기\n",
    "\n",
    "우리는 주어진 분포에서 특정 값($x=0$)에 대한 확률밀도함수 값($P(x=0)$)을 아래와 같이 구할 수 있습니다.\n",
    "\n",
    "* 이산 분포라면 -> Probability Mass Function(PMF)\n",
    "* 연속 분포라면 -> Probability Density Function(PDF)\n",
    "\n",
    "정규분포의 확률밀도함수는 아래와 같습니다.\n",
    "\n",
    "$$\n",
    "Norm(x;\\mu,\\sigma) = \\frac{1}{\\sigma\\sqrt{2\\pi}}exp(-\\frac{(x-\\mu)^2}{2\\sigma^2})\n",
    "$$\n"
   ]
  },
  {
   "cell_type": "code",
   "execution_count": 7,
   "metadata": {},
   "outputs": [
    {
     "name": "stdout",
     "output_type": "stream",
     "text": [
      "Norm(x=0) = 0.798\n",
      "Norm(x=0.5) = 0.484\n",
      "Norm(x=1.5) = 0.009\n"
     ]
    }
   ],
   "source": [
    "print(f\"Norm(x=0) = {normal.prob(0):.3f}\")\n",
    "print(f\"Norm(x=0.5) = {normal.prob(.5):.3f}\")\n",
    "print(f\"Norm(x=1.5) = {normal.prob(1.5):.3f}\")"
   ]
  },
  {
   "cell_type": "markdown",
   "metadata": {},
   "source": [
    "정규분포의 확률밀도함수를 Ploting하면 아래와 같습니다."
   ]
  },
  {
   "cell_type": "code",
   "execution_count": 16,
   "metadata": {},
   "outputs": [],
   "source": [
    "xs = np.linspace(-5,5,300)\n",
    "ys = normal.prob(xs) # 각 값에 대응되는 확률밀도함수 값을 반환합니다."
   ]
  },
  {
   "cell_type": "code",
   "execution_count": 17,
   "metadata": {},
   "outputs": [
    {
     "data": {
      "image/png": "[encoded data removed]",
      "text/plain": [
       "<Figure size 432x288 with 1 Axes>"
      ]
     },
     "metadata": {},
     "output_type": "display_data"
    }
   ],
   "source": [
    "plt.plot(xs,ys)\n",
    "plt.show()"
   ]
  },
  {
   "cell_type": "markdown",
   "metadata": {},
   "source": [
    "### Momentum 구하기"
   ]
  },
  {
   "cell_type": "code",
   "execution_count": 18,
   "metadata": {},
   "outputs": [
    {
     "name": "stdout",
     "output_type": "stream",
     "text": [
      "E[X] = 0.000\n",
      "Var[X] = 0.250\n",
      "Std[X] = 0.500\n"
     ]
    }
   ],
   "source": [
    "mean = normal.mean()\n",
    "var = normal.variance()\n",
    "std = normal.stddev()\n",
    "print(f\"E[X] = {mean:.3f}\")\n",
    "print(f\"Var[X] = {var:.3f}\")\n",
    "print(f\"Std[X] = {std:.3f}\")"
   ]
  },
  {
   "cell_type": "markdown",
   "metadata": {},
   "source": [
    "### Entropy 구하기\n",
    "\n",
    "확률분포가 가지는 Entropy도 쉽게 구할 수 있습니다.\n",
    "\n",
    "$$\n",
    "H(X) = -\\int_{E} p(x)logp(x)dx\n",
    "$$"
   ]
  },
  {
   "cell_type": "code",
   "execution_count": 26,
   "metadata": {},
   "outputs": [
    {
     "data": {
      "text/plain": [
       "<tf.Tensor: id=824, shape=(), dtype=float64, numpy=1.4189385332046727>"
      ]
     },
     "execution_count": 26,
     "metadata": {},
     "output_type": "execute_result"
    }
   ],
   "source": [
    "normal.entropy()"
   ]
  },
  {
   "cell_type": "markdown",
   "metadata": {},
   "source": [
    "단순한 실험을 해보겟습니다. 평균이 바뀌면, Normal Distribution의 엔트로피가 바뀔까요? 바뀔리 없습니다."
   ]
  },
  {
   "cell_type": "code",
   "execution_count": 27,
   "metadata": {},
   "outputs": [],
   "source": [
    "means = np.linspace(0.1,1.5)\n",
    "entropys = []\n",
    "for mean in means:\n",
    "    normal = tfd.Normal(loc=mean, scale=1.)\n",
    "    entropys.append(normal.entropy())"
   ]
  },
  {
   "cell_type": "code",
   "execution_count": 28,
   "metadata": {},
   "outputs": [
    {
     "data": {
      "image/png": "[encoded data removed]",
      "text/plain": [
       "<Figure size 432x288 with 1 Axes>"
      ]
     },
     "metadata": {},
     "output_type": "display_data"
    }
   ],
   "source": [
    "plt.title(\"Entropy per Mean\")\n",
    "plt.plot(means, entropys)\n",
    "plt.xlabel('mean')\n",
    "plt.ylabel('Entropy')\n",
    "plt.show()"
   ]
  },
  {
   "cell_type": "markdown",
   "metadata": {},
   "source": [
    "그렇다면 분산이 바뀌면 바뀔까요? 네, 분산이 커질수록 엔트로피도 커집니다."
   ]
  },
  {
   "cell_type": "code",
   "execution_count": 29,
   "metadata": {},
   "outputs": [],
   "source": [
    "scales = np.linspace(0.1,1.5)\n",
    "normal = tfd.Normal(loc=0., scale=scales)\n",
    "entropys = normal.entropy()"
   ]
  },
  {
   "cell_type": "code",
   "execution_count": 30,
   "metadata": {},
   "outputs": [
    {
     "data": {
      "image/png": "[encoded data removed]",
      "text/plain": [
       "<Figure size 432x288 with 1 Axes>"
      ]
     },
     "metadata": {},
     "output_type": "display_data"
    }
   ],
   "source": [
    "plt.title(\"Entropy per Scale\")\n",
    "plt.plot(scales, entropys)\n",
    "plt.xlabel('Scale')\n",
    "plt.ylabel('Entropy')\n",
    "plt.show()"
   ]
  },
  {
   "cell_type": "markdown",
   "metadata": {},
   "source": [
    "### KL Divergence 구하기\n",
    "\n",
    "\n",
    "\n",
    "$$D_{KL}(P||Q) =\\int p(x)log(\\frac{p(x)}{q(x)})dx$$"
   ]
  },
  {
   "cell_type": "code",
   "execution_count": 31,
   "metadata": {},
   "outputs": [],
   "source": [
    "P = tfd.Normal(loc=0., scale=.5)\n",
    "Q = tfd.Normal(loc=0.5, scale=1.5)"
   ]
  },
  {
   "cell_type": "code",
   "execution_count": 32,
   "metadata": {},
   "outputs": [
    {
     "data": {
      "text/plain": [
       "<tf.Tensor: id=1432, shape=(), dtype=float32, numpy=0.7097235>"
      ]
     },
     "execution_count": 32,
     "metadata": {},
     "output_type": "execute_result"
    }
   ],
   "source": [
    "P.kl_divergence(Q)"
   ]
  },
  {
   "cell_type": "markdown",
   "metadata": {},
   "source": [
    "KL Divergence 수식은 비 대칭으로, 두 값의 위치를 바꾸면 함수 값도 달라집니다. 아래를 통해 확인해보면 됩니다."
   ]
  },
  {
   "cell_type": "code",
   "execution_count": 33,
   "metadata": {},
   "outputs": [
    {
     "data": {
      "text/plain": [
       "<tf.Tensor: id=1448, shape=(), dtype=float32, numpy=3.4013877>"
      ]
     },
     "execution_count": 33,
     "metadata": {},
     "output_type": "execute_result"
    }
   ],
   "source": [
    "Q.kl_divergence(P)"
   ]
  },
  {
   "cell_type": "markdown",
   "metadata": {},
   "source": [
    "### Cross Entropy 구하기\n",
    "\n",
    "두 분포에 대한 Cross Entropy($H(P,Q)$)는 아래와 같이 구할 수 있습니다.\n",
    "\n",
    "$H(P,Q) = \\int p(x)logq(x) dx$"
   ]
  },
  {
   "cell_type": "code",
   "execution_count": 34,
   "metadata": {},
   "outputs": [],
   "source": [
    "P = tfd.Normal(loc=0., scale=.5)\n",
    "Q = tfd.Normal(loc=0.5, scale=1.5)"
   ]
  },
  {
   "cell_type": "markdown",
   "metadata": {},
   "source": [
    "두 분포에 대한 KL Divergence와 Cross Entropy, Entropy의 관계는 아래와 같습니다.\n",
    "\n",
    "$$D_{KL}(P||Q) = H(P,Q) - H(P)$$\n",
    "$$H(P,Q) = H(P) + D_{KL}(P||Q) $$\n",
    "\n"
   ]
  },
  {
   "cell_type": "code",
   "execution_count": 35,
   "metadata": {},
   "outputs": [],
   "source": [
    "entropy_pq = P.cross_entropy(Q).numpy()\n",
    "entropy_p = P.entropy().numpy()\n",
    "kld_pq = P.kl_divergence(Q).numpy()"
   ]
  },
  {
   "cell_type": "code",
   "execution_count": 36,
   "metadata": {},
   "outputs": [
    {
     "name": "stdout",
     "output_type": "stream",
     "text": [
      "cross entropy(P,Q) : 1.436\n",
      "entropy(P) : 0.726\n",
      "kld(P||Q) : 0.710\n"
     ]
    }
   ],
   "source": [
    "print(f\"cross entropy(P,Q) : {entropy_pq:.3f}\")\n",
    "print(f\"entropy(P) : {entropy_p:.3f}\")\n",
    "print(f\"kld(P||Q) : {kld_pq:.3f}\")"
   ]
  },
  {
   "cell_type": "markdown",
   "metadata": {},
   "source": [
    "### 복수 개의 변수에 대한 확률 분포 정의하기\n",
    "\n",
    "우리는 복수 개의 변수에 대한 확률 분포도 아래와 같이 쉽게 정의할 수 있습니다. 우리는 변수 갯수만큼 Parameter를 지정해주면 됩니다."
   ]
  },
  {
   "cell_type": "code",
   "execution_count": 37,
   "metadata": {},
   "outputs": [],
   "source": [
    "nd = tfd.Normal(loc=[0.,1.],\n",
    "                scale=[1.,2.])"
   ]
  },
  {
   "cell_type": "code",
   "execution_count": 38,
   "metadata": {},
   "outputs": [
    {
     "data": {
      "text/plain": [
       "<tf.Tensor: id=1526, shape=(10, 2), dtype=float32, numpy=\n",
       "array([[-3.2867318e-01,  2.7139888e+00],\n",
       "       [ 1.8722377e+00,  3.7947345e+00],\n",
       "       [ 8.4647465e-01,  4.7819271e+00],\n",
       "       [ 2.7316606e-02, -6.5266144e-01],\n",
       "       [ 1.9515076e+00,  3.8972249e+00],\n",
       "       [ 4.3607750e-03, -1.1163671e+00],\n",
       "       [-4.7072873e-01,  1.9653744e+00],\n",
       "       [ 2.0242211e-01,  3.7119520e+00],\n",
       "       [ 4.6498409e-01,  3.6198733e+00],\n",
       "       [-1.4190254e+00,  9.5918477e-01]], dtype=float32)>"
      ]
     },
     "execution_count": 38,
     "metadata": {},
     "output_type": "execute_result"
    }
   ],
   "source": [
    "nd.sample(10) # 각 분포에 대해 10개씩 반환합니다."
   ]
  },
  {
   "cell_type": "code",
   "execution_count": 39,
   "metadata": {},
   "outputs": [
    {
     "data": {
      "text/plain": [
       "<tf.Tensor: id=1539, shape=(1, 2), dtype=float32, numpy=array([[0.3989423 , 0.18026347]], dtype=float32)>"
      ]
     },
     "execution_count": 39,
     "metadata": {},
     "output_type": "execute_result"
    }
   ],
   "source": [
    "nd.prob([[0,.1]]) # 각 분포에 대한 PDF 값을 반환합니다."
   ]
  },
  {
   "cell_type": "markdown",
   "metadata": {},
   "source": [
    "## 2. 다양한 분포 정의하기\n",
    "---"
   ]
  },
  {
   "cell_type": "markdown",
   "metadata": {},
   "source": [
    "### (1) 베르누이 분포 \n",
    "\n",
    "베르누이의 확률질량함수(PMF)는 아래와 같습니다.\n",
    "\n",
    "$$\n",
    "Bern(x;\\theta) = \\begin{cases}\n",
    "1-\\theta, && \\mbox{x = 0}\\\\\n",
    "\\theta && \\mbox{x = 1}\n",
    "\\end{cases}\n",
    "$$\n",
    "\n",
    "베르누이 분포를 확률밀도함수로 표현하면 아래와 같습니다.<br>"
   ]
  },
  {
   "cell_type": "code",
   "execution_count": 40,
   "metadata": {},
   "outputs": [],
   "source": [
    "bern = tfd.Bernoulli(probs=0.8)"
   ]
  },
  {
   "cell_type": "code",
   "execution_count": 41,
   "metadata": {},
   "outputs": [
    {
     "name": "stderr",
     "output_type": "stream",
     "text": [
      "WARNING: Logging before flag parsing goes to stderr.\n",
      "W0824 23:00:31.292326 4601415104 deprecation.py:323] From /Users/ksj/anaconda3/lib/python3.6/site-packages/tensorflow/python/ops/nn_impl.py:180: add_dispatch_support.<locals>.wrapper (from tensorflow.python.ops.array_ops) is deprecated and will be removed in a future version.\n",
      "Instructions for updating:\n",
      "Use tf.where in 2.0, which has the same broadcast rule as np.where\n"
     ]
    },
    {
     "name": "stdout",
     "output_type": "stream",
     "text": [
      "x=0 일때의 확률 : 0.20\n",
      "x=1 일때의 확률 : 0.80\n"
     ]
    }
   ],
   "source": [
    "print(f\"x=0 일때의 확률 : {bern.prob(0):.2f}\")\n",
    "print(f\"x=1 일때의 확률 : {bern.prob(1):.2f}\")"
   ]
  },
  {
   "cell_type": "markdown",
   "metadata": {},
   "source": [
    "베르누이 분포의 확률밀도함수를 시각화하면 아래와 같습니다."
   ]
  },
  {
   "cell_type": "code",
   "execution_count": 42,
   "metadata": {},
   "outputs": [
    {
     "data": {
      "image/png": "[encoded data removed]",
      "text/plain": [
       "<Figure size 432x288 with 1 Axes>"
      ]
     },
     "metadata": {},
     "output_type": "display_data"
    }
   ],
   "source": [
    "xs = np.linspace(0.,1.,100)\n",
    "ys = bern.prob(xs).numpy()\n",
    "\n",
    "plt.plot(xs,ys)\n",
    "plt.xlim(0.,1.)\n",
    "plt.ylim(0.,1.)\n",
    "plt.show()"
   ]
  },
  {
   "cell_type": "markdown",
   "metadata": {},
   "source": [
    "#### 샘플링하기"
   ]
  },
  {
   "cell_type": "code",
   "execution_count": 43,
   "metadata": {},
   "outputs": [
    {
     "data": {
      "image/png": "[encoded data removed]",
      "text/plain": [
       "<Figure size 432x288 with 1 Axes>"
      ]
     },
     "metadata": {},
     "output_type": "display_data"
    }
   ],
   "source": [
    "sampling = bern.sample(100)\n",
    "plt.hist(sampling)\n",
    "plt.show()"
   ]
  },
  {
   "cell_type": "markdown",
   "metadata": {},
   "source": [
    "#### Momentum 구하기"
   ]
  },
  {
   "cell_type": "code",
   "execution_count": 44,
   "metadata": {},
   "outputs": [
    {
     "name": "stdout",
     "output_type": "stream",
     "text": [
      "E[X] = 0.800\n",
      "Var[X] = 0.160\n",
      "Std[X] = 0.400\n"
     ]
    }
   ],
   "source": [
    "mean = bern.mean()\n",
    "var = bern.variance()\n",
    "std = bern.stddev()\n",
    "print(f\"E[X] = {mean:.3f}\")\n",
    "print(f\"Var[X] = {var:.3f}\")\n",
    "print(f\"Std[X] = {std:.3f}\")"
   ]
  },
  {
   "cell_type": "markdown",
   "metadata": {},
   "source": [
    "#### KL Divergence 구하기"
   ]
  },
  {
   "cell_type": "code",
   "execution_count": 45,
   "metadata": {},
   "outputs": [],
   "source": [
    "bern1 = tfd.Bernoulli(probs=0.8)\n",
    "bern2 = tfd.Bernoulli(probs=0.3)"
   ]
  },
  {
   "cell_type": "code",
   "execution_count": 46,
   "metadata": {},
   "outputs": [
    {
     "data": {
      "text/plain": [
       "<tf.Tensor: id=1662, shape=(), dtype=float32, numpy=0.5341108>"
      ]
     },
     "execution_count": 46,
     "metadata": {},
     "output_type": "execute_result"
    }
   ],
   "source": [
    "# 베르누이 분포끼리의 KL Divergence는 구할 수 있지만\n",
    "bern1.kl_divergence(bern2)"
   ]
  },
  {
   "cell_type": "code",
   "execution_count": 52,
   "metadata": {},
   "outputs": [
    {
     "ename": "NotImplementedError",
     "evalue": "No KL(distribution_a || distribution_b) registered for distribution_a type Bernoulli and distribution_b type Normal",
     "output_type": "error",
     "traceback": [
      "\u001b[0;31m---------------------------------------------------------------------------\u001b[0m",
      "\u001b[0;31mNotImplementedError\u001b[0m                       Traceback (most recent call last)",
      "\u001b[0;32m<ipython-input-52-1f6821a495df>\u001b[0m in \u001b[0;36m<module>\u001b[0;34m\u001b[0m\n\u001b[1;32m      1\u001b[0m \u001b[0;31m# 베르누이 분포와 가우시안 분포의 KL Divergence는 구할 수 없습니다.\u001b[0m\u001b[0;34m\u001b[0m\u001b[0;34m\u001b[0m\u001b[0m\n\u001b[0;32m----> 2\u001b[0;31m \u001b[0mbern1\u001b[0m\u001b[0;34m.\u001b[0m\u001b[0mkl_divergence\u001b[0m\u001b[0;34m(\u001b[0m\u001b[0mnormal\u001b[0m\u001b[0;34m)\u001b[0m\u001b[0;34m\u001b[0m\u001b[0m\n\u001b[0m",
      "\u001b[0;32m~/anaconda3/lib/python3.6/site-packages/tensorflow_probability/python/distributions/distribution.py\u001b[0m in \u001b[0;36mkl_divergence\u001b[0;34m(self, other, name)\u001b[0m\n\u001b[1;32m   1270\u001b[0m     \"\"\"\n\u001b[1;32m   1271\u001b[0m     \u001b[0;32mwith\u001b[0m \u001b[0mself\u001b[0m\u001b[0;34m.\u001b[0m\u001b[0m_name_scope\u001b[0m\u001b[0;34m(\u001b[0m\u001b[0mname\u001b[0m\u001b[0;34m)\u001b[0m\u001b[0;34m:\u001b[0m\u001b[0;34m\u001b[0m\u001b[0m\n\u001b[0;32m-> 1272\u001b[0;31m       \u001b[0;32mreturn\u001b[0m \u001b[0mself\u001b[0m\u001b[0;34m.\u001b[0m\u001b[0m_kl_divergence\u001b[0m\u001b[0;34m(\u001b[0m\u001b[0mother\u001b[0m\u001b[0;34m)\u001b[0m\u001b[0;34m\u001b[0m\u001b[0m\n\u001b[0m\u001b[1;32m   1273\u001b[0m \u001b[0;34m\u001b[0m\u001b[0m\n\u001b[1;32m   1274\u001b[0m   \u001b[0;32mdef\u001b[0m \u001b[0m__str__\u001b[0m\u001b[0;34m(\u001b[0m\u001b[0mself\u001b[0m\u001b[0;34m)\u001b[0m\u001b[0;34m:\u001b[0m\u001b[0;34m\u001b[0m\u001b[0m\n",
      "\u001b[0;32m~/anaconda3/lib/python3.6/site-packages/tensorflow_probability/python/distributions/distribution.py\u001b[0m in \u001b[0;36m_kl_divergence\u001b[0;34m(self, other)\u001b[0m\n\u001b[1;32m   1242\u001b[0m   \u001b[0;32mdef\u001b[0m \u001b[0m_kl_divergence\u001b[0m\u001b[0;34m(\u001b[0m\u001b[0mself\u001b[0m\u001b[0;34m,\u001b[0m \u001b[0mother\u001b[0m\u001b[0;34m)\u001b[0m\u001b[0;34m:\u001b[0m\u001b[0;34m\u001b[0m\u001b[0m\n\u001b[1;32m   1243\u001b[0m     return kullback_leibler.kl_divergence(\n\u001b[0;32m-> 1244\u001b[0;31m         self, other, allow_nan_stats=self.allow_nan_stats)\n\u001b[0m\u001b[1;32m   1245\u001b[0m \u001b[0;34m\u001b[0m\u001b[0m\n\u001b[1;32m   1246\u001b[0m   \u001b[0;32mdef\u001b[0m \u001b[0mkl_divergence\u001b[0m\u001b[0;34m(\u001b[0m\u001b[0mself\u001b[0m\u001b[0;34m,\u001b[0m \u001b[0mother\u001b[0m\u001b[0;34m,\u001b[0m \u001b[0mname\u001b[0m\u001b[0;34m=\u001b[0m\u001b[0;34m\"kl_divergence\"\u001b[0m\u001b[0;34m)\u001b[0m\u001b[0;34m:\u001b[0m\u001b[0;34m\u001b[0m\u001b[0m\n",
      "\u001b[0;32m~/anaconda3/lib/python3.6/site-packages/tensorflow_probability/python/distributions/kullback_leibler.py\u001b[0m in \u001b[0;36mkl_divergence\u001b[0;34m(distribution_a, distribution_b, allow_nan_stats, name)\u001b[0m\n\u001b[1;32m     92\u001b[0m         \u001b[0;34m\"No KL(distribution_a || distribution_b) registered for distribution_a \"\u001b[0m\u001b[0;34m\u001b[0m\u001b[0m\n\u001b[1;32m     93\u001b[0m         \"type {} and distribution_b type {}\".format(\n\u001b[0;32m---> 94\u001b[0;31m             type(distribution_a).__name__, type(distribution_b).__name__))\n\u001b[0m\u001b[1;32m     95\u001b[0m \u001b[0;34m\u001b[0m\u001b[0m\n\u001b[1;32m     96\u001b[0m   \u001b[0;32mwith\u001b[0m \u001b[0mtf\u001b[0m\u001b[0;34m.\u001b[0m\u001b[0mname_scope\u001b[0m\u001b[0;34m(\u001b[0m\u001b[0;34m\"KullbackLeibler\"\u001b[0m\u001b[0;34m)\u001b[0m\u001b[0;34m:\u001b[0m\u001b[0;34m\u001b[0m\u001b[0m\n",
      "\u001b[0;31mNotImplementedError\u001b[0m: No KL(distribution_a || distribution_b) registered for distribution_a type Bernoulli and distribution_b type Normal"
     ]
    }
   ],
   "source": [
    "# 베르누이 분포와 가우시안 분포의 KL Divergence는 구할 수 없습니다.\n",
    "bern1.kl_divergence(normal)"
   ]
  },
  {
   "cell_type": "markdown",
   "metadata": {},
   "source": [
    "### (2) Categorical Distribution\n",
    "\n",
    "Categorical Distribution은 베르누이 분포의 일반화된 형태입니다. Categorical 분포의  확률질량함수(PMF)는 아래와 같습니다.\n",
    "\n",
    "$$\n",
    "\\textbf{p} = (p_1,...,p_k) \\mbox{일 때,}\\\\\n",
    "Cate(x;\\textbf{P}) = P_x\n",
    "$$\n",
    "\n",
    "Categorical Distribution을 샘플링하면 아래와 같습니다."
   ]
  },
  {
   "cell_type": "code",
   "execution_count": 53,
   "metadata": {},
   "outputs": [],
   "source": [
    "cate = tfd.Categorical(probs=[0.3,0.2,0.5])"
   ]
  },
  {
   "cell_type": "markdown",
   "metadata": {},
   "source": [
    "###  PMF 그리기"
   ]
  },
  {
   "cell_type": "code",
   "execution_count": 54,
   "metadata": {},
   "outputs": [
    {
     "data": {
      "image/png": "[encoded data removed]",
      "text/plain": [
       "<Figure size 432x288 with 1 Axes>"
      ]
     },
     "metadata": {},
     "output_type": "display_data"
    }
   ],
   "source": [
    "xs = np.linspace(0.,2.,)\n",
    "ys = cate.prob(xs).numpy()\n",
    "\n",
    "plt.plot(xs,ys)\n",
    "plt.show()"
   ]
  },
  {
   "cell_type": "markdown",
   "metadata": {},
   "source": [
    "#### 샘플링하기"
   ]
  },
  {
   "cell_type": "code",
   "execution_count": 55,
   "metadata": {},
   "outputs": [
    {
     "data": {
      "image/png": "[encoded data removed]",
      "text/plain": [
       "<Figure size 432x288 with 1 Axes>"
      ]
     },
     "metadata": {},
     "output_type": "display_data"
    }
   ],
   "source": [
    "sampling = cate.sample(1000).numpy()\n",
    "\n",
    "plt.hist(sampling)\n",
    "plt.show()"
   ]
  },
  {
   "cell_type": "markdown",
   "metadata": {},
   "source": [
    "## 3. 다변수 분포(Multivariate Distribution) 정의하기\n",
    "---\n",
    "다변수 분포는 아래와 같습니다."
   ]
  },
  {
   "cell_type": "code",
   "execution_count": 56,
   "metadata": {},
   "outputs": [],
   "source": [
    "nd = tfd.MultivariateNormalDiag(loc=[0., .5], \n",
    "                                scale_diag=[1., 2.])"
   ]
  },
  {
   "cell_type": "code",
   "execution_count": 57,
   "metadata": {},
   "outputs": [
    {
     "data": {
      "text/plain": [
       "<tf.Tensor: id=1887, shape=(10, 2), dtype=float32, numpy=\n",
       "array([[-1.6992414 , -2.2704625 ],\n",
       "       [ 0.95967215,  3.6666102 ],\n",
       "       [-2.1887503 , -0.23840815],\n",
       "       [ 1.0409629 ,  0.5771738 ],\n",
       "       [-1.0463585 ,  1.4051971 ],\n",
       "       [ 0.4552363 , -0.4128052 ],\n",
       "       [-0.33674318,  1.243989  ],\n",
       "       [ 0.7726888 , -0.44113028],\n",
       "       [-0.02556252,  1.584822  ],\n",
       "       [-1.5042224 ,  1.2173636 ]], dtype=float32)>"
      ]
     },
     "execution_count": 57,
     "metadata": {},
     "output_type": "execute_result"
    }
   ],
   "source": [
    "nd.sample(10)"
   ]
  },
  {
   "cell_type": "markdown",
   "metadata": {},
   "source": [
    "위에서 정의한 2변수 분포$p(x_1,x_2)$는 `nd.prob`의 입력값으로 당연히, 각 변수에 대한 값이 필요합니다.\n",
    "\n",
    "$p(x_1=0.,x_2=0.)$는 아래와 같이 구할 수 있습니다."
   ]
  },
  {
   "cell_type": "code",
   "execution_count": 58,
   "metadata": {},
   "outputs": [
    {
     "data": {
      "text/plain": [
       "<tf.Tensor: id=1949, shape=(), dtype=float32, numpy=0.07712913>"
      ]
     },
     "execution_count": 58,
     "metadata": {},
     "output_type": "execute_result"
    }
   ],
   "source": [
    "nd.prob([0,0])"
   ]
  },
  {
   "cell_type": "markdown",
   "metadata": {},
   "source": [
    "Multivarate Normal Distribution의 PDF 함수를 시각화해 보겠습니다."
   ]
  },
  {
   "cell_type": "code",
   "execution_count": 59,
   "metadata": {},
   "outputs": [
    {
     "data": {
      "image/png": "[encoded data removed]",
      "text/plain": [
       "<Figure size 432x288 with 1 Axes>"
      ]
     },
     "metadata": {},
     "output_type": "display_data"
    }
   ],
   "source": [
    "ys,xs = np.meshgrid(np.arange(-4,4,0.25),\n",
    "                    np.arange(-4,4,0.25))\n",
    "\n",
    "pts = np.stack([ys.ravel(),xs.ravel()],axis=1) \n",
    "zs = nd.prob(pts).numpy() # PDF 값 구하기\n",
    "\n",
    "fig = plt.figure()\n",
    "ax = Axes3D(fig)\n",
    "ax.set_title(\"Multivariate Normal Distribution Plot\")\n",
    "ax.plot_surface(xs, ys, zs.reshape(ys.shape), \n",
    "                rstride=1, cstride=1, cmap='hot')\n",
    "plt.show()"
   ]
  },
  {
   "cell_type": "markdown",
   "metadata": {},
   "source": [
    "## 4. Mixture Distribution 구성하기\n",
    "---"
   ]
  },
  {
   "cell_type": "code",
   "execution_count": 60,
   "metadata": {},
   "outputs": [
    {
     "name": "stderr",
     "output_type": "stream",
     "text": [
      "W0824 23:00:42.306845 4601415104 deprecation.py:323] From /Users/ksj/anaconda3/lib/python3.6/site-packages/tensorflow_probability/python/distributions/mixture.py:154: Categorical.event_size (from tensorflow_probability.python.distributions.categorical) is deprecated and will be removed after 2019-05-19.\n",
      "Instructions for updating:\n",
      "The `event_size` property is deprecated.  Use `num_categories` instead.  They have the same value, but `event_size` is misnamed.\n"
     ]
    },
    {
     "data": {
      "image/png": "[encoded data removed]",
      "text/plain": [
       "<Figure size 432x288 with 1 Axes>"
      ]
     },
     "metadata": {},
     "output_type": "display_data"
    }
   ],
   "source": [
    "mix = 0.3\n",
    "bimix_gauss = tfd.Mixture(\n",
    "  cat=tfd.Categorical(probs=[0.5, 0.3, 0.2]),\n",
    "  components=[\n",
    "    tfd.Normal(loc=-1., scale=0.2),\n",
    "    tfd.Normal(loc=0., scale=0.2),\n",
    "    tfd.Normal(loc=3., scale=0.2),      \n",
    "])\n",
    "\n",
    "# Gaussian Mixture Distribution은 아래와 같이 구할 수 있습니다.\n",
    "x = np.linspace(-2., 5., int(1e4))\n",
    "z = bimix_gauss.prob(x).numpy()\n",
    "plt.plot(x, z)\n",
    "plt.show()"
   ]
  }
 ],
 "metadata": {
  "kernelspec": {
   "display_name": "Python 3",
   "language": "python",
   "name": "python3"
  },
  "language_info": {
   "codemirror_mode": {
    "name": "ipython",
    "version": 3
   },
   "file_extension": ".py",
   "mimetype": "text/x-python",
   "name": "python",
   "nbconvert_exporter": "python",
   "pygments_lexer": "ipython3",
   "version": "3.6.6"
  }
 },
 "nbformat": 4,
 "nbformat_minor": 2
}
