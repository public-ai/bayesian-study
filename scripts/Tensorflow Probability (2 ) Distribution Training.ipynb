{
 "cells": [
  {
   "cell_type": "code",
   "execution_count": 2,
   "metadata": {},
   "outputs": [],
   "source": [
    "%matplotlib inline\n",
    "import tensorflow as tf\n",
    "import tensorflow_probability as tfp\n",
    "import tensorflow_probability.python.distributions as tfd\n",
    "\n",
    "import numpy as np\n",
    "import matplotlib.pyplot as plt"
   ]
  },
  {
   "cell_type": "code",
   "execution_count": 444,
   "metadata": {},
   "outputs": [],
   "source": [
    "from IPython.display import display, HTML\n",
    "import numpy as np    \n",
    "\n",
    "def strip_consts(graph_def, max_const_size=32):\n",
    "    \"\"\"Strip large constant values from graph_def.\"\"\"\n",
    "    strip_def = tf.GraphDef()\n",
    "    for n0 in graph_def.node:\n",
    "        n = strip_def.node.add() \n",
    "        n.MergeFrom(n0)\n",
    "        if n.op == 'Const':\n",
    "            tensor = n.attr['value'].tensor\n",
    "            size = len(tensor.tensor_content)\n",
    "            if size > max_const_size:\n",
    "                tensor.tensor_content = \"<stripped %d bytes>\"%size\n",
    "    return strip_def\n",
    "\n",
    "def show_graph(graph_def, max_const_size=32):\n",
    "    \"\"\"Visualize TensorFlow graph.\"\"\"\n",
    "    if hasattr(graph_def, 'as_graph_def'):\n",
    "        graph_def = graph_def.as_graph_def()\n",
    "    strip_def = strip_consts(graph_def, max_const_size=max_const_size)\n",
    "    code = \"\"\"\n",
    "        <script>\n",
    "          function load() {{\n",
    "            document.getElementById(\"{id}\").pbtxt = {data};\n",
    "          }}\n",
    "        </script>\n",
    "        <link rel=\"import\" href=\"https://tensorboard.appspot.com/tf-graph-basic.build.html\" onload=load()>\n",
    "        <div style=\"height:600px\">\n",
    "          <tf-graph-basic id=\"{id}\"></tf-graph-basic>\n",
    "        </div>\n",
    "    \"\"\".format(data=repr(str(strip_def)), id='graph'+str(np.random.rand()))\n",
    "\n",
    "    iframe = \"\"\"\n",
    "        <iframe seamless style=\"width:1200px;height:620px;border:0\" srcdoc=\"{}\"></iframe>\n",
    "    \"\"\".format(code.replace('\"', '&quot;'))\n",
    "    display(HTML(iframe))"
   ]
  },
  {
   "cell_type": "markdown",
   "metadata": {},
   "source": [
    "# \\[Tensorflow Distribution의 역전파\\]\n",
    "---\n",
    "\n",
    "Tensorflow에서 지원하는 Distribution은 역전파가 가능합니다! 달리 말해, Distribution의 Parameter들은 **학습 가능합니다.**"
   ]
  },
  {
   "cell_type": "markdown",
   "metadata": {},
   "source": [
    "## 1. 정규분포로 학습시키기 \n",
    "---"
   ]
  },
  {
   "cell_type": "markdown",
   "metadata": {},
   "source": [
    "### (1) 학습시킬 정규분포 정의하기\n",
    "\n",
    "우리는 정규분포의 모수(Parameter)를 Variable로 지정할 수 있습니다. <br>\n",
    "Tensorflow에서의 Variable은 Training 과정 중에 값이 Update될 수 있는 것을 의미합니다."
   ]
  },
  {
   "cell_type": "code",
   "execution_count": 483,
   "metadata": {},
   "outputs": [],
   "source": [
    "graph = tf.Graph()\n",
    "with graph.as_default():\n",
    "    mean = tf.Variable(0.5, name='mean')\n",
    "    std_ = tf.Variable(1.3, name='std_')\n",
    "\n",
    "    # Standard deviation은 항상 양수여야 하므로, \n",
    "    # Softplus을 통해 그 값이 [0,+inf) 이도록 합니다.\n",
    "    std = tf.nn.softplus(std_,name='std')\n",
    "    P = tfd.Normal(mean, std,name='P')"
   ]
  },
  {
   "cell_type": "code",
   "execution_count": 484,
   "metadata": {},
   "outputs": [
    {
     "data": {
      "text/html": [
       "\n",
       "        <iframe seamless style=\"width:1200px;height:620px;border:0\" srcdoc=\"\n",
       "        <script>\n",
       "          function load() {\n",
       "            document.getElementById(&quot;graph0.4176818310861954&quot;).pbtxt = 'node {\\n  name: &quot;mean/initial_value&quot;\\n  op: &quot;Const&quot;\\n  attr {\\n    key: &quot;dtype&quot;\\n    value {\\n      type: DT_FLOAT\\n    }\\n  }\\n  attr {\\n    key: &quot;value&quot;\\n    value {\\n      tensor {\\n        dtype: DT_FLOAT\\n        tensor_shape {\\n        }\\n        float_val: 0.5\\n      }\\n    }\\n  }\\n}\\nnode {\\n  name: &quot;mean&quot;\\n  op: &quot;VariableV2&quot;\\n  attr {\\n    key: &quot;container&quot;\\n    value {\\n      s: &quot;&quot;\\n    }\\n  }\\n  attr {\\n    key: &quot;dtype&quot;\\n    value {\\n      type: DT_FLOAT\\n    }\\n  }\\n  attr {\\n    key: &quot;shape&quot;\\n    value {\\n      shape {\\n      }\\n    }\\n  }\\n  attr {\\n    key: &quot;shared_name&quot;\\n    value {\\n      s: &quot;&quot;\\n    }\\n  }\\n}\\nnode {\\n  name: &quot;mean/Assign&quot;\\n  op: &quot;Assign&quot;\\n  input: &quot;mean&quot;\\n  input: &quot;mean/initial_value&quot;\\n  attr {\\n    key: &quot;T&quot;\\n    value {\\n      type: DT_FLOAT\\n    }\\n  }\\n  attr {\\n    key: &quot;_class&quot;\\n    value {\\n      list {\\n        s: &quot;loc:@mean&quot;\\n      }\\n    }\\n  }\\n  attr {\\n    key: &quot;use_locking&quot;\\n    value {\\n      b: true\\n    }\\n  }\\n  attr {\\n    key: &quot;validate_shape&quot;\\n    value {\\n      b: true\\n    }\\n  }\\n}\\nnode {\\n  name: &quot;mean/read&quot;\\n  op: &quot;Identity&quot;\\n  input: &quot;mean&quot;\\n  attr {\\n    key: &quot;T&quot;\\n    value {\\n      type: DT_FLOAT\\n    }\\n  }\\n  attr {\\n    key: &quot;_class&quot;\\n    value {\\n      list {\\n        s: &quot;loc:@mean&quot;\\n      }\\n    }\\n  }\\n}\\nnode {\\n  name: &quot;std_/initial_value&quot;\\n  op: &quot;Const&quot;\\n  attr {\\n    key: &quot;dtype&quot;\\n    value {\\n      type: DT_FLOAT\\n    }\\n  }\\n  attr {\\n    key: &quot;value&quot;\\n    value {\\n      tensor {\\n        dtype: DT_FLOAT\\n        tensor_shape {\\n        }\\n        float_val: 1.2999999523162842\\n      }\\n    }\\n  }\\n}\\nnode {\\n  name: &quot;std_&quot;\\n  op: &quot;VariableV2&quot;\\n  attr {\\n    key: &quot;container&quot;\\n    value {\\n      s: &quot;&quot;\\n    }\\n  }\\n  attr {\\n    key: &quot;dtype&quot;\\n    value {\\n      type: DT_FLOAT\\n    }\\n  }\\n  attr {\\n    key: &quot;shape&quot;\\n    value {\\n      shape {\\n      }\\n    }\\n  }\\n  attr {\\n    key: &quot;shared_name&quot;\\n    value {\\n      s: &quot;&quot;\\n    }\\n  }\\n}\\nnode {\\n  name: &quot;std_/Assign&quot;\\n  op: &quot;Assign&quot;\\n  input: &quot;std_&quot;\\n  input: &quot;std_/initial_value&quot;\\n  attr {\\n    key: &quot;T&quot;\\n    value {\\n      type: DT_FLOAT\\n    }\\n  }\\n  attr {\\n    key: &quot;_class&quot;\\n    value {\\n      list {\\n        s: &quot;loc:@std_&quot;\\n      }\\n    }\\n  }\\n  attr {\\n    key: &quot;use_locking&quot;\\n    value {\\n      b: true\\n    }\\n  }\\n  attr {\\n    key: &quot;validate_shape&quot;\\n    value {\\n      b: true\\n    }\\n  }\\n}\\nnode {\\n  name: &quot;std_/read&quot;\\n  op: &quot;Identity&quot;\\n  input: &quot;std_&quot;\\n  attr {\\n    key: &quot;T&quot;\\n    value {\\n      type: DT_FLOAT\\n    }\\n  }\\n  attr {\\n    key: &quot;_class&quot;\\n    value {\\n      list {\\n        s: &quot;loc:@std_&quot;\\n      }\\n    }\\n  }\\n}\\nnode {\\n  name: &quot;std&quot;\\n  op: &quot;Softplus&quot;\\n  input: &quot;std_/read&quot;\\n  attr {\\n    key: &quot;T&quot;\\n    value {\\n      type: DT_FLOAT\\n    }\\n  }\\n}\\nnode {\\n  name: &quot;P/Identity&quot;\\n  op: &quot;Identity&quot;\\n  input: &quot;mean/read&quot;\\n  attr {\\n    key: &quot;T&quot;\\n    value {\\n      type: DT_FLOAT\\n    }\\n  }\\n}\\nnode {\\n  name: &quot;P/Identity_1&quot;\\n  op: &quot;Identity&quot;\\n  input: &quot;std&quot;\\n  attr {\\n    key: &quot;T&quot;\\n    value {\\n      type: DT_FLOAT\\n    }\\n  }\\n}\\n';\n",
       "          }\n",
       "        </script>\n",
       "        <link rel=&quot;import&quot; href=&quot;https://tensorboard.appspot.com/tf-graph-basic.build.html&quot; onload=load()>\n",
       "        <div style=&quot;height:600px&quot;>\n",
       "          <tf-graph-basic id=&quot;graph0.4176818310861954&quot;></tf-graph-basic>\n",
       "        </div>\n",
       "    \"></iframe>\n",
       "    "
      ],
      "text/plain": [
       "<IPython.core.display.HTML object>"
      ]
     },
     "metadata": {},
     "output_type": "display_data"
    }
   ],
   "source": [
    "show_graph(graph)"
   ]
  },
  {
   "cell_type": "markdown",
   "metadata": {},
   "source": [
    "### (2) Loss 함수 정의하기\n",
    "\n",
    "두 분포의 차이를 대표하는 함수는 KullBack-Leibler divergence입니다."
   ]
  },
  {
   "cell_type": "code",
   "execution_count": 485,
   "metadata": {},
   "outputs": [],
   "source": [
    "with graph.as_default():\n",
    "    std_normal = tfd.Normal(0.,1.,name='standard_normal') \n",
    "    loss = P.kl_divergence(std_normal)"
   ]
  },
  {
   "cell_type": "code",
   "execution_count": 486,
   "metadata": {},
   "outputs": [
    {
     "data": {
      "text/html": [
       "\n",
       "        <iframe seamless style=\"width:1200px;height:620px;border:0\" srcdoc=\"\n",
       "        <script>\n",
       "          function load() {\n",
       "            document.getElementById(&quot;graph0.9807748788211809&quot;).pbtxt = 'node {\\n  name: &quot;mean/initial_value&quot;\\n  op: &quot;Const&quot;\\n  attr {\\n    key: &quot;dtype&quot;\\n    value {\\n      type: DT_FLOAT\\n    }\\n  }\\n  attr {\\n    key: &quot;value&quot;\\n    value {\\n      tensor {\\n        dtype: DT_FLOAT\\n        tensor_shape {\\n        }\\n        float_val: 0.5\\n      }\\n    }\\n  }\\n}\\nnode {\\n  name: &quot;mean&quot;\\n  op: &quot;VariableV2&quot;\\n  attr {\\n    key: &quot;container&quot;\\n    value {\\n      s: &quot;&quot;\\n    }\\n  }\\n  attr {\\n    key: &quot;dtype&quot;\\n    value {\\n      type: DT_FLOAT\\n    }\\n  }\\n  attr {\\n    key: &quot;shape&quot;\\n    value {\\n      shape {\\n      }\\n    }\\n  }\\n  attr {\\n    key: &quot;shared_name&quot;\\n    value {\\n      s: &quot;&quot;\\n    }\\n  }\\n}\\nnode {\\n  name: &quot;mean/Assign&quot;\\n  op: &quot;Assign&quot;\\n  input: &quot;mean&quot;\\n  input: &quot;mean/initial_value&quot;\\n  attr {\\n    key: &quot;T&quot;\\n    value {\\n      type: DT_FLOAT\\n    }\\n  }\\n  attr {\\n    key: &quot;_class&quot;\\n    value {\\n      list {\\n        s: &quot;loc:@mean&quot;\\n      }\\n    }\\n  }\\n  attr {\\n    key: &quot;use_locking&quot;\\n    value {\\n      b: true\\n    }\\n  }\\n  attr {\\n    key: &quot;validate_shape&quot;\\n    value {\\n      b: true\\n    }\\n  }\\n}\\nnode {\\n  name: &quot;mean/read&quot;\\n  op: &quot;Identity&quot;\\n  input: &quot;mean&quot;\\n  attr {\\n    key: &quot;T&quot;\\n    value {\\n      type: DT_FLOAT\\n    }\\n  }\\n  attr {\\n    key: &quot;_class&quot;\\n    value {\\n      list {\\n        s: &quot;loc:@mean&quot;\\n      }\\n    }\\n  }\\n}\\nnode {\\n  name: &quot;std_/initial_value&quot;\\n  op: &quot;Const&quot;\\n  attr {\\n    key: &quot;dtype&quot;\\n    value {\\n      type: DT_FLOAT\\n    }\\n  }\\n  attr {\\n    key: &quot;value&quot;\\n    value {\\n      tensor {\\n        dtype: DT_FLOAT\\n        tensor_shape {\\n        }\\n        float_val: 1.2999999523162842\\n      }\\n    }\\n  }\\n}\\nnode {\\n  name: &quot;std_&quot;\\n  op: &quot;VariableV2&quot;\\n  attr {\\n    key: &quot;container&quot;\\n    value {\\n      s: &quot;&quot;\\n    }\\n  }\\n  attr {\\n    key: &quot;dtype&quot;\\n    value {\\n      type: DT_FLOAT\\n    }\\n  }\\n  attr {\\n    key: &quot;shape&quot;\\n    value {\\n      shape {\\n      }\\n    }\\n  }\\n  attr {\\n    key: &quot;shared_name&quot;\\n    value {\\n      s: &quot;&quot;\\n    }\\n  }\\n}\\nnode {\\n  name: &quot;std_/Assign&quot;\\n  op: &quot;Assign&quot;\\n  input: &quot;std_&quot;\\n  input: &quot;std_/initial_value&quot;\\n  attr {\\n    key: &quot;T&quot;\\n    value {\\n      type: DT_FLOAT\\n    }\\n  }\\n  attr {\\n    key: &quot;_class&quot;\\n    value {\\n      list {\\n        s: &quot;loc:@std_&quot;\\n      }\\n    }\\n  }\\n  attr {\\n    key: &quot;use_locking&quot;\\n    value {\\n      b: true\\n    }\\n  }\\n  attr {\\n    key: &quot;validate_shape&quot;\\n    value {\\n      b: true\\n    }\\n  }\\n}\\nnode {\\n  name: &quot;std_/read&quot;\\n  op: &quot;Identity&quot;\\n  input: &quot;std_&quot;\\n  attr {\\n    key: &quot;T&quot;\\n    value {\\n      type: DT_FLOAT\\n    }\\n  }\\n  attr {\\n    key: &quot;_class&quot;\\n    value {\\n      list {\\n        s: &quot;loc:@std_&quot;\\n      }\\n    }\\n  }\\n}\\nnode {\\n  name: &quot;std&quot;\\n  op: &quot;Softplus&quot;\\n  input: &quot;std_/read&quot;\\n  attr {\\n    key: &quot;T&quot;\\n    value {\\n      type: DT_FLOAT\\n    }\\n  }\\n}\\nnode {\\n  name: &quot;P/Identity&quot;\\n  op: &quot;Identity&quot;\\n  input: &quot;mean/read&quot;\\n  attr {\\n    key: &quot;T&quot;\\n    value {\\n      type: DT_FLOAT\\n    }\\n  }\\n}\\nnode {\\n  name: &quot;P/Identity_1&quot;\\n  op: &quot;Identity&quot;\\n  input: &quot;std&quot;\\n  attr {\\n    key: &quot;T&quot;\\n    value {\\n      type: DT_FLOAT\\n    }\\n  }\\n}\\nnode {\\n  name: &quot;standard_normal/loc&quot;\\n  op: &quot;Const&quot;\\n  attr {\\n    key: &quot;dtype&quot;\\n    value {\\n      type: DT_FLOAT\\n    }\\n  }\\n  attr {\\n    key: &quot;value&quot;\\n    value {\\n      tensor {\\n        dtype: DT_FLOAT\\n        tensor_shape {\\n        }\\n        float_val: 0.0\\n      }\\n    }\\n  }\\n}\\nnode {\\n  name: &quot;standard_normal/scale&quot;\\n  op: &quot;Const&quot;\\n  attr {\\n    key: &quot;dtype&quot;\\n    value {\\n      type: DT_FLOAT\\n    }\\n  }\\n  attr {\\n    key: &quot;value&quot;\\n    value {\\n      tensor {\\n        dtype: DT_FLOAT\\n        tensor_shape {\\n        }\\n        float_val: 1.0\\n      }\\n    }\\n  }\\n}\\nnode {\\n  name: &quot;standard_normal/Identity&quot;\\n  op: &quot;Identity&quot;\\n  input: &quot;standard_normal/loc&quot;\\n  attr {\\n    key: &quot;T&quot;\\n    value {\\n      type: DT_FLOAT\\n    }\\n  }\\n}\\nnode {\\n  name: &quot;standard_normal/Identity_1&quot;\\n  op: &quot;Identity&quot;\\n  input: &quot;standard_normal/scale&quot;\\n  attr {\\n    key: &quot;T&quot;\\n    value {\\n      type: DT_FLOAT\\n    }\\n  }\\n}\\nnode {\\n  name: &quot;P/kl_divergence/KullbackLeibler/kl_normal_normal/Const&quot;\\n  op: &quot;Const&quot;\\n  attr {\\n    key: &quot;dtype&quot;\\n    value {\\n      type: DT_FLOAT\\n    }\\n  }\\n  attr {\\n    key: &quot;value&quot;\\n    value {\\n      tensor {\\n        dtype: DT_FLOAT\\n        tensor_shape {\\n        }\\n        float_val: 1.0\\n      }\\n    }\\n  }\\n}\\nnode {\\n  name: &quot;P/kl_divergence/KullbackLeibler/kl_normal_normal/Const_1&quot;\\n  op: &quot;Const&quot;\\n  attr {\\n    key: &quot;dtype&quot;\\n    value {\\n      type: DT_FLOAT\\n    }\\n  }\\n  attr {\\n    key: &quot;value&quot;\\n    value {\\n      tensor {\\n        dtype: DT_FLOAT\\n        tensor_shape {\\n        }\\n        float_val: 2.0\\n      }\\n    }\\n  }\\n}\\nnode {\\n  name: &quot;P/kl_divergence/KullbackLeibler/kl_normal_normal/Const_2&quot;\\n  op: &quot;Const&quot;\\n  attr {\\n    key: &quot;dtype&quot;\\n    value {\\n      type: DT_FLOAT\\n    }\\n  }\\n  attr {\\n    key: &quot;value&quot;\\n    value {\\n      tensor {\\n        dtype: DT_FLOAT\\n        tensor_shape {\\n        }\\n        float_val: 0.5\\n      }\\n    }\\n  }\\n}\\nnode {\\n  name: &quot;P/kl_divergence/KullbackLeibler/kl_normal_normal/Square&quot;\\n  op: &quot;Square&quot;\\n  input: &quot;P/Identity_1&quot;\\n  attr {\\n    key: &quot;T&quot;\\n    value {\\n      type: DT_FLOAT\\n    }\\n  }\\n}\\nnode {\\n  name: &quot;P/kl_divergence/KullbackLeibler/kl_normal_normal/Square_1&quot;\\n  op: &quot;Square&quot;\\n  input: &quot;standard_normal/Identity_1&quot;\\n  attr {\\n    key: &quot;T&quot;\\n    value {\\n      type: DT_FLOAT\\n    }\\n  }\\n}\\nnode {\\n  name: &quot;P/kl_divergence/KullbackLeibler/kl_normal_normal/truediv&quot;\\n  op: &quot;RealDiv&quot;\\n  input: &quot;P/kl_divergence/KullbackLeibler/kl_normal_normal/Square&quot;\\n  input: &quot;P/kl_divergence/KullbackLeibler/kl_normal_normal/Square_1&quot;\\n  attr {\\n    key: &quot;T&quot;\\n    value {\\n      type: DT_FLOAT\\n    }\\n  }\\n}\\nnode {\\n  name: &quot;P/kl_divergence/KullbackLeibler/kl_normal_normal/sub&quot;\\n  op: &quot;Sub&quot;\\n  input: &quot;P/Identity&quot;\\n  input: &quot;standard_normal/Identity&quot;\\n  attr {\\n    key: &quot;T&quot;\\n    value {\\n      type: DT_FLOAT\\n    }\\n  }\\n}\\nnode {\\n  name: &quot;P/kl_divergence/KullbackLeibler/kl_normal_normal/Square_2&quot;\\n  op: &quot;Square&quot;\\n  input: &quot;P/kl_divergence/KullbackLeibler/kl_normal_normal/sub&quot;\\n  attr {\\n    key: &quot;T&quot;\\n    value {\\n      type: DT_FLOAT\\n    }\\n  }\\n}\\nnode {\\n  name: &quot;P/kl_divergence/KullbackLeibler/kl_normal_normal/mul&quot;\\n  op: &quot;Mul&quot;\\n  input: &quot;P/kl_divergence/KullbackLeibler/kl_normal_normal/Const_1&quot;\\n  input: &quot;P/kl_divergence/KullbackLeibler/kl_normal_normal/Square_1&quot;\\n  attr {\\n    key: &quot;T&quot;\\n    value {\\n      type: DT_FLOAT\\n    }\\n  }\\n}\\nnode {\\n  name: &quot;P/kl_divergence/KullbackLeibler/kl_normal_normal/truediv_1&quot;\\n  op: &quot;RealDiv&quot;\\n  input: &quot;P/kl_divergence/KullbackLeibler/kl_normal_normal/Square_2&quot;\\n  input: &quot;P/kl_divergence/KullbackLeibler/kl_normal_normal/mul&quot;\\n  attr {\\n    key: &quot;T&quot;\\n    value {\\n      type: DT_FLOAT\\n    }\\n  }\\n}\\nnode {\\n  name: &quot;P/kl_divergence/KullbackLeibler/kl_normal_normal/sub_1&quot;\\n  op: &quot;Sub&quot;\\n  input: &quot;P/kl_divergence/KullbackLeibler/kl_normal_normal/truediv&quot;\\n  input: &quot;P/kl_divergence/KullbackLeibler/kl_normal_normal/Const&quot;\\n  attr {\\n    key: &quot;T&quot;\\n    value {\\n      type: DT_FLOAT\\n    }\\n  }\\n}\\nnode {\\n  name: &quot;P/kl_divergence/KullbackLeibler/kl_normal_normal/Log&quot;\\n  op: &quot;Log&quot;\\n  input: &quot;P/kl_divergence/KullbackLeibler/kl_normal_normal/truediv&quot;\\n  attr {\\n    key: &quot;T&quot;\\n    value {\\n      type: DT_FLOAT\\n    }\\n  }\\n}\\nnode {\\n  name: &quot;P/kl_divergence/KullbackLeibler/kl_normal_normal/sub_2&quot;\\n  op: &quot;Sub&quot;\\n  input: &quot;P/kl_divergence/KullbackLeibler/kl_normal_normal/sub_1&quot;\\n  input: &quot;P/kl_divergence/KullbackLeibler/kl_normal_normal/Log&quot;\\n  attr {\\n    key: &quot;T&quot;\\n    value {\\n      type: DT_FLOAT\\n    }\\n  }\\n}\\nnode {\\n  name: &quot;P/kl_divergence/KullbackLeibler/kl_normal_normal/mul_1&quot;\\n  op: &quot;Mul&quot;\\n  input: &quot;P/kl_divergence/KullbackLeibler/kl_normal_normal/Const_2&quot;\\n  input: &quot;P/kl_divergence/KullbackLeibler/kl_normal_normal/sub_2&quot;\\n  attr {\\n    key: &quot;T&quot;\\n    value {\\n      type: DT_FLOAT\\n    }\\n  }\\n}\\nnode {\\n  name: &quot;P/kl_divergence/KullbackLeibler/kl_normal_normal/add&quot;\\n  op: &quot;Add&quot;\\n  input: &quot;P/kl_divergence/KullbackLeibler/kl_normal_normal/truediv_1&quot;\\n  input: &quot;P/kl_divergence/KullbackLeibler/kl_normal_normal/mul_1&quot;\\n  attr {\\n    key: &quot;T&quot;\\n    value {\\n      type: DT_FLOAT\\n    }\\n  }\\n}\\n';\n",
       "          }\n",
       "        </script>\n",
       "        <link rel=&quot;import&quot; href=&quot;https://tensorboard.appspot.com/tf-graph-basic.build.html&quot; onload=load()>\n",
       "        <div style=&quot;height:600px&quot;>\n",
       "          <tf-graph-basic id=&quot;graph0.9807748788211809&quot;></tf-graph-basic>\n",
       "        </div>\n",
       "    \"></iframe>\n",
       "    "
      ],
      "text/plain": [
       "<IPython.core.display.HTML object>"
      ]
     },
     "metadata": {},
     "output_type": "display_data"
    }
   ],
   "source": [
    "show_graph(graph)"
   ]
  },
  {
   "cell_type": "markdown",
   "metadata": {},
   "source": [
    "### (3) optimizer 정의하기\n",
    "\n",
    "경사하강법(Gradient Decsent Method)을 통해, 필요한 standard deviation과 mean을 찾아보도록 하겠습니다."
   ]
  },
  {
   "cell_type": "code",
   "execution_count": 492,
   "metadata": {},
   "outputs": [],
   "source": [
    "with graph.as_default():\n",
    "    train_op = (tf.train\n",
    "                .MomentumOptimizer(learning_rate=.5,momentum=.9)\n",
    "                .minimize(loss))"
   ]
  },
  {
   "cell_type": "markdown",
   "metadata": {},
   "source": [
    "### (3) 모델 학습시키기"
   ]
  },
  {
   "cell_type": "code",
   "execution_count": 493,
   "metadata": {},
   "outputs": [
    {
     "name": "stdout",
     "output_type": "stream",
     "text": [
      "0번째 std : 1.277 | mean : 0.250\n",
      "10번째 std : 1.110 | mean : -0.165\n",
      "20번째 std : 1.022 | mean : -0.171\n",
      "30번째 std : 0.985 | mean : -0.029\n",
      "40번째 std : 0.974 | mean : 0.045\n",
      "50번째 std : 0.976 | mean : 0.033\n",
      "60번째 std : 0.982 | mean : 0.001\n",
      "70번째 std : 0.988 | mean : -0.011\n",
      "80번째 std : 0.993 | mean : -0.006\n",
      "90번째 std : 0.996 | mean : 0.001\n",
      "100번째 std : 0.998 | mean : 0.002\n",
      "110번째 std : 0.999 | mean : 0.001\n",
      "120번째 std : 1.000 | mean : -0.000\n",
      "130번째 std : 1.000 | mean : -0.001\n",
      "140번째 std : 1.000 | mean : -0.000\n",
      "150번째 std : 1.000 | mean : 0.000\n",
      "160번째 std : 1.000 | mean : 0.000\n",
      "170번째 std : 1.000 | mean : 0.000\n",
      "180번째 std : 1.000 | mean : -0.000\n",
      "190번째 std : 1.000 | mean : -0.000\n"
     ]
    }
   ],
   "source": [
    "with tf.Session(graph=graph) as sess:\n",
    "    # Mean, STD_ 변수 초기화 하기\n",
    "    sess.run(tf.global_variables_initializer())\n",
    "    \n",
    "    for i in range(200):\n",
    "        sess.run(train_op)\n",
    "        std_value, mean_value = sess.run([std,mean])\n",
    "        if i %10 ==0:\n",
    "            print(f\"{i}번째 std : {std_value:.3f} | mean : {mean_value:.3f}\")"
   ]
  }
 ],
 "metadata": {
  "kernelspec": {
   "display_name": "Python 3",
   "language": "python",
   "name": "python3"
  },
  "language_info": {
   "codemirror_mode": {
    "name": "ipython",
    "version": 3
   },
   "file_extension": ".py",
   "mimetype": "text/x-python",
   "name": "python",
   "nbconvert_exporter": "python",
   "pygments_lexer": "ipython3",
   "version": "3.6.6"
  }
 },
 "nbformat": 4,
 "nbformat_minor": 2
}
